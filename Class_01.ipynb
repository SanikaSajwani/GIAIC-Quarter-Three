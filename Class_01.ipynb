{
  "nbformat": 4,
  "nbformat_minor": 0,
  "metadata": {
    "colab": {
      "provenance": [],
      "include_colab_link": true
    },
    "kernelspec": {
      "name": "python3",
      "display_name": "Python 3"
    },
    "language_info": {
      "name": "python"
    }
  },
  "cells": [
    {
      "cell_type": "markdown",
      "metadata": {
        "id": "view-in-github",
        "colab_type": "text"
      },
      "source": [
        "<a href=\"https://colab.research.google.com/github/SanikaSajwani/GIAIC-Quarter-Three/blob/main/Class_01.ipynb\" target=\"_parent\"><img src=\"https://colab.research.google.com/assets/colab-badge.svg\" alt=\"Open In Colab\"/></a>"
      ]
    },
    {
      "cell_type": "markdown",
      "source": [
        "# Introduction\n"
      ],
      "metadata": {
        "id": "W5xbjYf_93oV"
      }
    },
    {
      "cell_type": "markdown",
      "source": [
        "**Printing Hello World**"
      ],
      "metadata": {
        "id": "EftlvQYKCk4a"
      }
    },
    {
      "cell_type": "code",
      "execution_count": null,
      "metadata": {
        "colab": {
          "base_uri": "https://localhost:8080/"
        },
        "id": "kJYBx9s36QK1",
        "outputId": "480c3df0-5090-4d85-e84e-9948ab0472fd"
      },
      "outputs": [
        {
          "output_type": "stream",
          "name": "stdout",
          "text": [
            "Hello World!\n"
          ]
        }
      ],
      "source": [
        "print(\"Hello World!\")\n",
        "# Commenting for future reference"
      ]
    },
    {
      "cell_type": "markdown",
      "source": [
        "**Variable in Different Cells**\n",
        "\n",
        "Line-by-Line Execution\n"
      ],
      "metadata": {
        "id": "ouDpgosZ-utk"
      }
    },
    {
      "cell_type": "code",
      "source": [
        "name = \"Sanika\";"
      ],
      "metadata": {
        "id": "yFRmEo9P-lez"
      },
      "execution_count": null,
      "outputs": []
    },
    {
      "cell_type": "code",
      "source": [
        "print(name);"
      ],
      "metadata": {
        "colab": {
          "base_uri": "https://localhost:8080/"
        },
        "id": "Ex_4GuJ7-qNe",
        "outputId": "a673cc91-446c-46f6-df87-dc2e38c022ca"
      },
      "execution_count": null,
      "outputs": [
        {
          "output_type": "stream",
          "name": "stdout",
          "text": [
            "Sanika\n"
          ]
        }
      ]
    },
    {
      "cell_type": "markdown",
      "source": [
        "# Data Types"
      ],
      "metadata": {
        "id": "1PvtTEYWNGL9"
      }
    },
    {
      "cell_type": "markdown",
      "source": [
        "**Numeric Data Types**"
      ],
      "metadata": {
        "id": "_q83D0m6C_tZ"
      }
    },
    {
      "cell_type": "code",
      "source": [
        "var1: int = 12\n",
        "var2: float = 12.0\n",
        "var3: complex = 5j\n",
        "\n",
        "print(var1,  var2,  var3);"
      ],
      "metadata": {
        "colab": {
          "base_uri": "https://localhost:8080/"
        },
        "id": "KNXnG46BCEOr",
        "outputId": "db24cb78-babb-476b-b471-943fbfe619a1"
      },
      "execution_count": null,
      "outputs": [
        {
          "output_type": "stream",
          "name": "stdout",
          "text": [
            "12 12.0 5j\n"
          ]
        }
      ]
    },
    {
      "cell_type": "code",
      "source": [
        "var4 = 12\n",
        "var5 = 12.0\n",
        "var6 = 5j\n",
        "\n",
        "print(type(var4), type(var5), type(var6))"
      ],
      "metadata": {
        "colab": {
          "base_uri": "https://localhost:8080/"
        },
        "id": "GHAq4yBUCv5B",
        "outputId": "6b46251a-f20a-4398-ecb8-9cc05497223d"
      },
      "execution_count": null,
      "outputs": [
        {
          "output_type": "stream",
          "name": "stdout",
          "text": [
            "<class 'int'> <class 'float'> <class 'complex'>\n"
          ]
        }
      ]
    },
    {
      "cell_type": "code",
      "source": [
        "# Same ID in int type\n",
        "Age = 25\n",
        "age = 25\n",
        "print(id(age))\n",
        "print(id(Age))"
      ],
      "metadata": {
        "colab": {
          "base_uri": "https://localhost:8080/"
        },
        "id": "I2PnlNX7Qfb9",
        "outputId": "26331921-bb90-4155-b5f5-7bb60053fe22"
      },
      "execution_count": null,
      "outputs": [
        {
          "output_type": "stream",
          "name": "stdout",
          "text": [
            "10751624\n",
            "10751624\n"
          ]
        }
      ]
    },
    {
      "cell_type": "markdown",
      "source": [
        "**Boolean Data Type**"
      ],
      "metadata": {
        "id": "VsoCLG1uDFl_"
      }
    },
    {
      "cell_type": "code",
      "source": [
        "var7 = True\n",
        "print(type(var7))"
      ],
      "metadata": {
        "colab": {
          "base_uri": "https://localhost:8080/"
        },
        "id": "lyj8nmfLDPwC",
        "outputId": "865cdf8d-d61a-4408-bd30-03bc22bd9424"
      },
      "execution_count": null,
      "outputs": [
        {
          "output_type": "stream",
          "name": "stdout",
          "text": [
            "<class 'bool'>\n"
          ]
        }
      ]
    },
    {
      "cell_type": "markdown",
      "source": [
        "**String Data Type**"
      ],
      "metadata": {
        "id": "WkJDsVIrDpIO"
      }
    },
    {
      "cell_type": "code",
      "source": [
        "Name = \"Sanika\"\n",
        "print(type(Name))"
      ],
      "metadata": {
        "colab": {
          "base_uri": "https://localhost:8080/"
        },
        "id": "YZZ8kjS2EErx",
        "outputId": "196f836a-f534-4bed-fe58-d69142a4a414"
      },
      "execution_count": null,
      "outputs": [
        {
          "output_type": "stream",
          "name": "stdout",
          "text": [
            "<class 'str'>\n"
          ]
        }
      ]
    },
    {
      "cell_type": "code",
      "source": [
        "print(id(Name));"
      ],
      "metadata": {
        "colab": {
          "base_uri": "https://localhost:8080/"
        },
        "id": "LMmhD3Z3OSpX",
        "outputId": "773c71cc-d7dc-45ac-96a2-b700a58c3eb8"
      },
      "execution_count": null,
      "outputs": [
        {
          "output_type": "stream",
          "name": "stdout",
          "text": [
            "137136822366704\n"
          ]
        }
      ]
    },
    {
      "cell_type": "code",
      "source": [
        "greeting: str = \"Welcome \" + Name + \"!\" # concatenation\n",
        "print(greeting)"
      ],
      "metadata": {
        "colab": {
          "base_uri": "https://localhost:8080/"
        },
        "id": "GXPHvg1YaA5e",
        "outputId": "2301cc60-087d-4ac8-c7f7-2a8c5b60e8ec"
      },
      "execution_count": null,
      "outputs": [
        {
          "output_type": "stream",
          "name": "stdout",
          "text": [
            "Welcome Sanika!\n"
          ]
        }
      ]
    },
    {
      "cell_type": "code",
      "source": [
        "# doc string \"\"\" \"\"\" leave spaces and new lines in it only without \\t and \\n\n",
        "multi_line = \"\"\"\"Hi!\n",
        "I am Sanika.\n",
        "Welcome to my journey!\"\"\"\n",
        "print(multi_line)"
      ],
      "metadata": {
        "colab": {
          "base_uri": "https://localhost:8080/"
        },
        "id": "_fPPbo4EKA-_",
        "outputId": "4f35319c-6a9a-422a-c553-015fd5e99ef6"
      },
      "execution_count": null,
      "outputs": [
        {
          "output_type": "stream",
          "name": "stdout",
          "text": [
            "\"Hi!\n",
            "I am Sanika.\n",
            "Welcome to my journey!\n"
          ]
        }
      ]
    },
    {
      "cell_type": "code",
      "source": [
        "# tempelate literals\n",
        "print(f\"Hi, my name is {Name}.\") #f-string\n",
        "\n",
        "print(\"Hi, my name is {}\".format(Name)) #dot string"
      ],
      "metadata": {
        "colab": {
          "base_uri": "https://localhost:8080/"
        },
        "id": "RCm8mrLfKWiG",
        "outputId": "4f910584-0e4a-4aa4-f508-6fa9c6635bbf"
      },
      "execution_count": null,
      "outputs": [
        {
          "output_type": "stream",
          "name": "stdout",
          "text": [
            "Hi, my name is Sanika.\n",
            "Hi, my name is Sanika\n"
          ]
        }
      ]
    },
    {
      "cell_type": "markdown",
      "source": [
        "**List Data Type**\n",
        "\n",
        "An ordered, mutable collection."
      ],
      "metadata": {
        "id": "w5WxIGt9DtJd"
      }
    },
    {
      "cell_type": "code",
      "source": [
        "Hobbies = [\"Coding\", \"Crocheting\", \"Singing\"]\n",
        "print(type(Hobbies))"
      ],
      "metadata": {
        "colab": {
          "base_uri": "https://localhost:8080/"
        },
        "id": "8AHT3I04E8W2",
        "outputId": "58449ab0-96a4-41b6-f724-e86ebc826f8f"
      },
      "execution_count": null,
      "outputs": [
        {
          "output_type": "stream",
          "name": "stdout",
          "text": [
            "<class 'list'>\n"
          ]
        }
      ]
    },
    {
      "cell_type": "code",
      "source": [
        "print(Hobbies[0]);"
      ],
      "metadata": {
        "colab": {
          "base_uri": "https://localhost:8080/"
        },
        "id": "o1adyPrhNnTY",
        "outputId": "de516986-03a7-426c-cfba-39e724b10e59"
      },
      "execution_count": null,
      "outputs": [
        {
          "output_type": "stream",
          "name": "stdout",
          "text": [
            "Coding\n"
          ]
        }
      ]
    },
    {
      "cell_type": "code",
      "source": [
        "print(Name, Hobbies)"
      ],
      "metadata": {
        "colab": {
          "base_uri": "https://localhost:8080/"
        },
        "id": "AG9TFbXFFA9R",
        "outputId": "a7692995-5e6e-4c5e-b786-d69b5c8c6e79"
      },
      "execution_count": null,
      "outputs": [
        {
          "output_type": "stream",
          "name": "stdout",
          "text": [
            "Sanika ['Coding', 'Crocheting', 'Singing']\n"
          ]
        }
      ]
    },
    {
      "cell_type": "markdown",
      "source": [
        "**Tuple Data Type**\n",
        "\n",
        "An ordered, immutable collection."
      ],
      "metadata": {
        "id": "Y2dYvhw3DzX6"
      }
    },
    {
      "cell_type": "code",
      "source": [
        "Fav_colors = (\"Ruby Red\", \"Jet Black\", \"Navy Blue\")\n",
        "print(type(Fav_colors))"
      ],
      "metadata": {
        "colab": {
          "base_uri": "https://localhost:8080/"
        },
        "id": "7VsZ7fWjHirv",
        "outputId": "7f6969ed-03ec-4af6-f16a-04e9118379e6"
      },
      "execution_count": null,
      "outputs": [
        {
          "output_type": "stream",
          "name": "stdout",
          "text": [
            "<class 'tuple'>\n"
          ]
        }
      ]
    },
    {
      "cell_type": "markdown",
      "source": [
        "**Range Data Type**"
      ],
      "metadata": {
        "id": "RgYWFy6hD4Eu"
      }
    },
    {
      "cell_type": "code",
      "source": [
        "# range(start, stop, step)\n",
        "var8 = range(1, 16, 7)\n",
        "print(type(var8))\n",
        "print(var8.step)"
      ],
      "metadata": {
        "colab": {
          "base_uri": "https://localhost:8080/"
        },
        "id": "HBbJZPhhTthK",
        "outputId": "eb1710a4-23b9-46cc-88c4-362017bdc86c"
      },
      "execution_count": null,
      "outputs": [
        {
          "output_type": "stream",
          "name": "stdout",
          "text": [
            "<class 'range'>\n",
            "7\n"
          ]
        }
      ]
    },
    {
      "cell_type": "code",
      "source": [
        "for i in var8:\n",
        "  print(i)"
      ],
      "metadata": {
        "colab": {
          "base_uri": "https://localhost:8080/"
        },
        "id": "z53qBiBKIx6n",
        "outputId": "c1b0d994-7119-4b1a-f005-8080f16a6765"
      },
      "execution_count": null,
      "outputs": [
        {
          "output_type": "stream",
          "name": "stdout",
          "text": [
            "1\n",
            "8\n",
            "15\n"
          ]
        }
      ]
    },
    {
      "cell_type": "markdown",
      "source": [
        "**Dictionary Data Type**"
      ],
      "metadata": {
        "id": "D3DUg-LkJWa3"
      }
    },
    {
      "cell_type": "code",
      "source": [
        "var9 = {\"Name\": \"Sanika\", \"age\": 25, \"Hobby\": \"Coding\"}\n",
        "print(type(var9))\n",
        "print(var9)"
      ],
      "metadata": {
        "colab": {
          "base_uri": "https://localhost:8080/"
        },
        "id": "3a8jJYKWJZ2j",
        "outputId": "38db688d-34c8-4abb-8513-3a41be7ac03d"
      },
      "execution_count": null,
      "outputs": [
        {
          "output_type": "stream",
          "name": "stdout",
          "text": [
            "<class 'dict'>\n",
            "{'Name': 'Sanika', 'age': 25, 'Hobby': 'Coding'}\n"
          ]
        }
      ]
    },
    {
      "cell_type": "code",
      "source": [
        "print(var9.get(\"Name\", \"Unknown\"))\n",
        "print(var9.get(\"age\", \"Under 18\"))"
      ],
      "metadata": {
        "colab": {
          "base_uri": "https://localhost:8080/"
        },
        "id": "XGhtofw3YOGn",
        "outputId": "3d8fe19b-2951-48d6-d163-b9297c96efb2"
      },
      "execution_count": null,
      "outputs": [
        {
          "output_type": "stream",
          "name": "stdout",
          "text": [
            "Sanika\n",
            "25\n"
          ]
        }
      ]
    }
  ]
}