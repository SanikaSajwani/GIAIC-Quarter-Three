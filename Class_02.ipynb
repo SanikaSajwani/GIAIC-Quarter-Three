{
  "nbformat": 4,
  "nbformat_minor": 0,
  "metadata": {
    "colab": {
      "provenance": [],
      "authorship_tag": "ABX9TyM1QACTtcnImH9HYb7lJSVn",
      "include_colab_link": true
    },
    "kernelspec": {
      "name": "python3",
      "display_name": "Python 3"
    },
    "language_info": {
      "name": "python"
    }
  },
  "cells": [
    {
      "cell_type": "markdown",
      "metadata": {
        "id": "view-in-github",
        "colab_type": "text"
      },
      "source": [
        "<a href=\"https://colab.research.google.com/github/SanikaSajwani/GIAIC-Quarter-Three/blob/main/Class_02.ipynb\" target=\"_parent\"><img src=\"https://colab.research.google.com/assets/colab-badge.svg\" alt=\"Open In Colab\"/></a>"
      ]
    },
    {
      "cell_type": "markdown",
      "source": [
        "# Quarter 3 - Class 2: Python Fundamentals"
      ],
      "metadata": {
        "id": "a6v5xChS2Ta4"
      }
    },
    {
      "cell_type": "code",
      "execution_count": null,
      "metadata": {
        "colab": {
          "base_uri": "https://localhost:8080/"
        },
        "id": "9VwZttXB2G6C",
        "outputId": "6d7878dc-619c-445c-9a79-5b941a35e42c"
      },
      "outputs": [
        {
          "output_type": "stream",
          "name": "stdout",
          "text": [
            "Assignment Operator: 15\n"
          ]
        }
      ],
      "source": [
        "# 1. Assignment Operators\n",
        "x = 10\n",
        "x += 5  # Equivalent to x = x + 5\n",
        "print(\"Assignment Operator:\", x)  # Output: 15"
      ]
    },
    {
      "cell_type": "code",
      "source": [
        "# 2. Comparison Operators\n",
        "age = 20\n",
        "print(\"Comparison Operator:\", age >= 18)  # Output: True (Eligible to vote)"
      ],
      "metadata": {
        "colab": {
          "base_uri": "https://localhost:8080/"
        },
        "id": "nxkVJYSK2Y6e",
        "outputId": "e5949e88-c855-4acb-9ca8-dfeaff618717"
      },
      "execution_count": null,
      "outputs": [
        {
          "output_type": "stream",
          "name": "stdout",
          "text": [
            "Comparison Operator: True\n"
          ]
        }
      ]
    },
    {
      "cell_type": "code",
      "source": [
        "# 3. Logical Operators\n",
        "has_card = True\n",
        "knows_pin = False\n",
        "print(\"Logical AND Operator:\", has_card and knows_pin)  # Output: False"
      ],
      "metadata": {
        "colab": {
          "base_uri": "https://localhost:8080/"
        },
        "id": "QV5xTrVo2fCl",
        "outputId": "95889565-3d58-4f6f-f2fa-b5b2342260c8"
      },
      "execution_count": null,
      "outputs": [
        {
          "output_type": "stream",
          "name": "stdout",
          "text": [
            "Logical AND Operator: False\n"
          ]
        }
      ]
    },
    {
      "cell_type": "code",
      "source": [
        "# 4. Bitwise Operators\n",
        "a = 5  # 101 in binary\n",
        "b = 3  # 011 in binary\n",
        "print(\"Bitwise AND Operator:\", a & b)  # Output: 1 (001 in binary)"
      ],
      "metadata": {
        "colab": {
          "base_uri": "https://localhost:8080/"
        },
        "id": "LR8A9lBW2fsj",
        "outputId": "ca9f9899-128b-4537-867a-50a73a6ed7c1"
      },
      "execution_count": null,
      "outputs": [
        {
          "output_type": "stream",
          "name": "stdout",
          "text": [
            "Bitwise AND Operator: 1\n"
          ]
        }
      ]
    },
    {
      "cell_type": "code",
      "source": [
        "# 5. Identity Operators\n",
        "a = [1, 2, 3]\n",
        "b = a\n",
        "c = [1, 2, 3]\n",
        "print(\"Identity Operator (is):\", a is b)  # Output: True\n",
        "print(\"Identity Operator (is not):\", a is not c)  # Output: True"
      ],
      "metadata": {
        "colab": {
          "base_uri": "https://localhost:8080/"
        },
        "id": "mexowMsY2iWf",
        "outputId": "5b8084fe-9f64-48f7-9aa8-c7fa2d5b8248"
      },
      "execution_count": null,
      "outputs": [
        {
          "output_type": "stream",
          "name": "stdout",
          "text": [
            "Identity Operator (is): True\n",
            "Identity Operator (is not): True\n"
          ]
        }
      ]
    },
    {
      "cell_type": "code",
      "source": [
        "# 6. Membership Operators\n",
        "fruits = [\"apple\", \"banana\", \"cherry\"]\n",
        "print(\"Membership Operator:\", \"apple\" in fruits)  # Output: True"
      ],
      "metadata": {
        "colab": {
          "base_uri": "https://localhost:8080/"
        },
        "id": "7Qr6sghj2kiz",
        "outputId": "e36c3e45-45d1-4bfe-9177-eb28b2872f7b"
      },
      "execution_count": null,
      "outputs": [
        {
          "output_type": "stream",
          "name": "stdout",
          "text": [
            "Membership Operator: True\n"
          ]
        }
      ]
    },
    {
      "cell_type": "code",
      "source": [
        "# 7. Enumerate Function\n",
        "colors = ['red', 'green', 'blue']\n",
        "for index, color in enumerate(colors):\n",
        "    print(f\"Enumerate Example: {index}: {color}\")"
      ],
      "metadata": {
        "colab": {
          "base_uri": "https://localhost:8080/"
        },
        "id": "sbjv2BOy2m8F",
        "outputId": "5d98a91d-095b-44e1-ae4d-fdf0953f2b20"
      },
      "execution_count": null,
      "outputs": [
        {
          "output_type": "stream",
          "name": "stdout",
          "text": [
            "Enumerate Example: 0: red\n",
            "Enumerate Example: 1: green\n",
            "Enumerate Example: 2: blue\n"
          ]
        }
      ]
    },
    {
      "cell_type": "code",
      "source": [
        "# 8. If-Else Statements\n",
        "temperature = 30\n",
        "if temperature > 25:\n",
        "    print(\"It's a hot day!\")\n",
        "else:\n",
        "    print(\"It's cool outside.\")"
      ],
      "metadata": {
        "colab": {
          "base_uri": "https://localhost:8080/"
        },
        "id": "ay1G2H362pEF",
        "outputId": "05098fc4-f793-48ee-dbb3-a517447ed55c"
      },
      "execution_count": null,
      "outputs": [
        {
          "output_type": "stream",
          "name": "stdout",
          "text": [
            "It's a hot day!\n"
          ]
        }
      ]
    },
    {
      "cell_type": "code",
      "source": [
        "# 9. Nested If-Else\n",
        "score = 85\n",
        "if score >= 90:\n",
        "    print(\"Grade: A\")\n",
        "elif score >= 80:\n",
        "    print(\"Grade: B\")\n",
        "else:\n",
        "    print(\"Grade: C\")"
      ],
      "metadata": {
        "colab": {
          "base_uri": "https://localhost:8080/"
        },
        "id": "sdkPA7gL2thz",
        "outputId": "c0714b52-146b-4179-9278-ca03f88f2352"
      },
      "execution_count": null,
      "outputs": [
        {
          "output_type": "stream",
          "name": "stdout",
          "text": [
            "Grade: B\n"
          ]
        }
      ]
    },
    {
      "cell_type": "code",
      "source": [
        "# 10. For Loop\n",
        "for i in range(1, 6):\n",
        "    print(\"For Loop Example: Attempt\", i)"
      ],
      "metadata": {
        "colab": {
          "base_uri": "https://localhost:8080/"
        },
        "id": "caaMxeqW2vgH",
        "outputId": "03857fb6-c8fa-4db5-ae6a-dacdcdaae3ee"
      },
      "execution_count": null,
      "outputs": [
        {
          "output_type": "stream",
          "name": "stdout",
          "text": [
            "For Loop Example: Attempt 1\n",
            "For Loop Example: Attempt 2\n",
            "For Loop Example: Attempt 3\n",
            "For Loop Example: Attempt 4\n",
            "For Loop Example: Attempt 5\n"
          ]
        }
      ]
    },
    {
      "cell_type": "code",
      "source": [
        "# 11. While Loop\n",
        "battery = 100\n",
        "while battery > 0:\n",
        "    print(\"Battery at:\", battery, \"%\")\n",
        "    battery -= 20"
      ],
      "metadata": {
        "colab": {
          "base_uri": "https://localhost:8080/"
        },
        "id": "0lWUjKI62wDy",
        "outputId": "2e5714f0-6168-4c3d-a5bd-5b2433ad3094"
      },
      "execution_count": null,
      "outputs": [
        {
          "output_type": "stream",
          "name": "stdout",
          "text": [
            "Battery at: 100 %\n",
            "Battery at: 80 %\n",
            "Battery at: 60 %\n",
            "Battery at: 40 %\n",
            "Battery at: 20 %\n"
          ]
        }
      ]
    },
    {
      "cell_type": "code",
      "source": [
        "# 12. Tuples - Immutable Data Structure\n",
        "person = (\"Alice\", 25, \"Engineer\")\n",
        "print(\"Tuple Example:\", person[0])  # Output: Alice\n"
      ],
      "metadata": {
        "colab": {
          "base_uri": "https://localhost:8080/"
        },
        "id": "MYN2u-MF2yH_",
        "outputId": "7c85412d-1162-44db-f0ef-71456108eda0"
      },
      "execution_count": null,
      "outputs": [
        {
          "output_type": "stream",
          "name": "stdout",
          "text": [
            "Tuple Example: Alice\n"
          ]
        }
      ]
    }
  ]
}