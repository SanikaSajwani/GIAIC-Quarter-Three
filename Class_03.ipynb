{
  "nbformat": 4,
  "nbformat_minor": 0,
  "metadata": {
    "colab": {
      "provenance": [],
      "authorship_tag": "ABX9TyOYwDThJFTV71FWtssCumza",
      "include_colab_link": true
    },
    "kernelspec": {
      "name": "python3",
      "display_name": "Python 3"
    },
    "language_info": {
      "name": "python"
    }
  },
  "cells": [
    {
      "cell_type": "markdown",
      "metadata": {
        "id": "view-in-github",
        "colab_type": "text"
      },
      "source": [
        "<a href=\"https://colab.research.google.com/github/SanikaSajwani/GIAIC-Quarter-Three/blob/main/Class_03.ipynb\" target=\"_parent\"><img src=\"https://colab.research.google.com/assets/colab-badge.svg\" alt=\"Open In Colab\"/></a>"
      ]
    },
    {
      "cell_type": "markdown",
      "source": [
        "# While Loop\n",
        "Break & Continue"
      ],
      "metadata": {
        "id": "8H1i3YL-wz2k"
      }
    },
    {
      "cell_type": "code",
      "execution_count": null,
      "metadata": {
        "colab": {
          "base_uri": "https://localhost:8080/"
        },
        "id": "BSxXnKFCuyzg",
        "outputId": "73427c8e-678b-4ce9-8d86-8c40d6ef8fb2"
      },
      "outputs": [
        {
          "output_type": "stream",
          "name": "stdout",
          "text": [
            "Hello World!\n",
            "Hello World!\n",
            "Hello World!\n",
            "End Loop\n"
          ]
        }
      ],
      "source": [
        "i = 0\n",
        "while True:\n",
        "  i += 1\n",
        "  if (i >= 5):\n",
        "    break\n",
        "  if (i == 2):\n",
        "    continue\n",
        "  print(\"Hello World!\")\n",
        "\n",
        "print(\"End Loop\")"
      ]
    },
    {
      "cell_type": "markdown",
      "source": [
        "# Data Types: Mutable & Immutable\n",
        "\n",
        "Mutable:\n",
        "- List\n",
        "- Dictionary\n",
        "- Sets\n",
        "- ByteArray\n",
        "\n",
        "Immutable:\n",
        "- Int\n",
        "- Float\n",
        "- String\n",
        "- Byte\n",
        "- Tuple\n",
        "- Frozenset\n",
        "- Boolean"
      ],
      "metadata": {
        "id": "1Sd7nh9C1CsB"
      }
    },
    {
      "cell_type": "code",
      "source": [
        "a = 10\n",
        "print(\"Id of 10:\", id(a))\n",
        "b = 10\n",
        "print(\"Id of 10:\", id(b))\n",
        "a = 20\n",
        "print(\"Id of 20:\", id(a))\n"
      ],
      "metadata": {
        "colab": {
          "base_uri": "https://localhost:8080/"
        },
        "id": "18iBVgtR1JxD",
        "outputId": "b0cbc985-a056-4e19-8b67-9b9e4a101f84"
      },
      "execution_count": null,
      "outputs": [
        {
          "output_type": "stream",
          "name": "stdout",
          "text": [
            "Id of 10: 10751144\n",
            "Id of 10: 10751144\n",
            "Id of 20: 10751464\n"
          ]
        }
      ]
    },
    {
      "cell_type": "markdown",
      "source": [
        "# Lists\n",
        "\n",
        "Defination: List is used to store multiple items in a single *variable*"
      ],
      "metadata": {
        "id": "ykkh_Qt5oPB0"
      }
    },
    {
      "cell_type": "code",
      "source": [
        "a = [\"Sam\", \"Indigo\", 23, True]\n",
        "print(a)"
      ],
      "metadata": {
        "colab": {
          "base_uri": "https://localhost:8080/"
        },
        "id": "v15jlph4oUTy",
        "outputId": "f548cfef-2778-4461-d04b-da5d5e4b7d3f"
      },
      "execution_count": null,
      "outputs": [
        {
          "output_type": "stream",
          "name": "stdout",
          "text": [
            "['Sam', 'Indigo', 23, True]\n"
          ]
        }
      ]
    },
    {
      "cell_type": "code",
      "source": [
        "a = [\"A\", \"B\", \"C\", \"D\"]\n",
        "#     -4  -3   -2   -1\n",
        "# negative index\n",
        "\n",
        "print(len(a))\n",
        "print(type(a), \"\\n\")\n",
        "\n",
        "print(a[0])\n",
        "print(a[-1])"
      ],
      "metadata": {
        "colab": {
          "base_uri": "https://localhost:8080/"
        },
        "id": "PDENPhLsvC69",
        "outputId": "302fa562-4a09-42fc-d588-d6296200f4b7"
      },
      "execution_count": null,
      "outputs": [
        {
          "output_type": "stream",
          "name": "stdout",
          "text": [
            "4\n",
            "<class 'list'> \n",
            "\n",
            "A\n",
            "D\n"
          ]
        }
      ]
    },
    {
      "cell_type": "code",
      "source": [
        "print(a[0:2])\n",
        "print(a[:2])\n",
        "print(a[1:])"
      ],
      "metadata": {
        "colab": {
          "base_uri": "https://localhost:8080/"
        },
        "id": "HQvJBruivu5l",
        "outputId": "ecd21d14-66cf-4328-b0d6-d29dd94e2271"
      },
      "execution_count": null,
      "outputs": [
        {
          "output_type": "stream",
          "name": "stdout",
          "text": [
            "['A', 'B']\n",
            "['A', 'B']\n",
            "['B', 'C', 'D']\n"
          ]
        }
      ]
    },
    {
      "cell_type": "code",
      "source": [
        "b = list((\"a\", \"b\", \"c\"))\n",
        "print(b)"
      ],
      "metadata": {
        "colab": {
          "base_uri": "https://localhost:8080/"
        },
        "id": "exd86PaEvzhn",
        "outputId": "308406d9-476c-4915-b307-a65585b4b068"
      },
      "execution_count": null,
      "outputs": [
        {
          "output_type": "stream",
          "name": "stdout",
          "text": [
            "['a', 'b', 'c']\n"
          ]
        }
      ]
    },
    {
      "cell_type": "code",
      "source": [
        "c = b.copy()\n",
        "print(c)\n",
        "\n",
        "d = list(b)\n",
        "print(d)"
      ],
      "metadata": {
        "colab": {
          "base_uri": "https://localhost:8080/"
        },
        "id": "0fkEbwtkwSHV",
        "outputId": "cb526a11-0a3b-4720-8e10-550136c25a89"
      },
      "execution_count": null,
      "outputs": [
        {
          "output_type": "stream",
          "name": "stdout",
          "text": [
            "['a', 'b', 'c']\n",
            "['a', 'b', 'c']\n"
          ]
        }
      ]
    },
    {
      "cell_type": "code",
      "source": [
        "b[1] = \"d\"\n",
        "print(b)"
      ],
      "metadata": {
        "colab": {
          "base_uri": "https://localhost:8080/"
        },
        "id": "9ukr-ujlwcnJ",
        "outputId": "aad3c6c8-378b-401b-83d9-558aa4dcf53c"
      },
      "execution_count": null,
      "outputs": [
        {
          "output_type": "stream",
          "name": "stdout",
          "text": [
            "['a', 'd', 'c']\n"
          ]
        }
      ]
    },
    {
      "cell_type": "code",
      "source": [
        "c.insert(1, \"e\")\n",
        "print(c)"
      ],
      "metadata": {
        "colab": {
          "base_uri": "https://localhost:8080/"
        },
        "id": "AHTHGg_twhI1",
        "outputId": "262834eb-5eef-487c-aa56-ed835ec2b7f1"
      },
      "execution_count": null,
      "outputs": [
        {
          "output_type": "stream",
          "name": "stdout",
          "text": [
            "['a', 'e', 'b', 'c']\n"
          ]
        }
      ]
    },
    {
      "cell_type": "code",
      "source": [
        "c.append(\"f\")\n",
        "print(c)"
      ],
      "metadata": {
        "colab": {
          "base_uri": "https://localhost:8080/"
        },
        "id": "KFtU6LFQEltC",
        "outputId": "4b2ab177-9578-4c16-dbd8-e0571aed7985"
      },
      "execution_count": null,
      "outputs": [
        {
          "output_type": "stream",
          "name": "stdout",
          "text": [
            "['a', 'e', 'b', 'c', 'f', 'f', 'f']\n"
          ]
        }
      ]
    },
    {
      "cell_type": "code",
      "source": [
        "b.extend(c)\n",
        "print(b)"
      ],
      "metadata": {
        "colab": {
          "base_uri": "https://localhost:8080/"
        },
        "id": "xveE4vkEEto6",
        "outputId": "dd313f04-3877-4d03-ad5f-bdfcc5b37757"
      },
      "execution_count": null,
      "outputs": [
        {
          "output_type": "stream",
          "name": "stdout",
          "text": [
            "['a', 'd', 'c', 'a', 'e', 'b', 'c', 'f', 'f', 'a', 'e', 'b', 'c', 'f', 'f', 'f']\n"
          ]
        }
      ]
    },
    {
      "cell_type": "code",
      "source": [
        "a.remove(\"A\")\n",
        "print(a)"
      ],
      "metadata": {
        "colab": {
          "base_uri": "https://localhost:8080/"
        },
        "id": "mF4Tm7sUE84D",
        "outputId": "5ed80883-baa3-495d-d6ac-328329f62b2b"
      },
      "execution_count": null,
      "outputs": [
        {
          "output_type": "stream",
          "name": "stdout",
          "text": [
            "['B', 'C', 'D']\n"
          ]
        }
      ]
    },
    {
      "cell_type": "code",
      "source": [
        "a.pop(1)\n",
        "print(a)"
      ],
      "metadata": {
        "colab": {
          "base_uri": "https://localhost:8080/"
        },
        "id": "j6EqpMRMFBbc",
        "outputId": "ac8d2cac-a5fc-445c-a5cc-a0767797f85a"
      },
      "execution_count": null,
      "outputs": [
        {
          "output_type": "stream",
          "name": "stdout",
          "text": [
            "['B', 'D']\n"
          ]
        }
      ]
    },
    {
      "cell_type": "code",
      "source": [
        "del a [1]\n",
        "print(a)"
      ],
      "metadata": {
        "colab": {
          "base_uri": "https://localhost:8080/"
        },
        "id": "yKFvOSVLFG4F",
        "outputId": "5090f6a6-0cc1-4667-8a75-cb6ef78bece7"
      },
      "execution_count": null,
      "outputs": [
        {
          "output_type": "stream",
          "name": "stdout",
          "text": [
            "['B']\n"
          ]
        }
      ]
    },
    {
      "cell_type": "code",
      "source": [
        "a.clear()\n",
        "print(a)"
      ],
      "metadata": {
        "colab": {
          "base_uri": "https://localhost:8080/"
        },
        "id": "Tyx7qOSuFPXI",
        "outputId": "8e93a9e5-766c-4e0d-b9a6-add1e87ccfe5"
      },
      "execution_count": null,
      "outputs": [
        {
          "output_type": "stream",
          "name": "stdout",
          "text": [
            "[]\n"
          ]
        }
      ]
    },
    {
      "cell_type": "markdown",
      "source": [
        "# Dictionary\n",
        "\n",
        "They are used to store data values in key:value pairs.\n",
        "\n",
        "Syntax: var_name = {key:value}"
      ],
      "metadata": {
        "id": "m-SzBFcomCt0"
      }
    },
    {
      "cell_type": "code",
      "source": [
        "std_data = {\n",
        "    \"name\":\"Emily\",\n",
        "    \"age\":\"26\",\n",
        "    \"hobbies\": [\"reading\", \"crocheting\", \"painting\"]\n",
        "}\n",
        "\n",
        "print(  std_data[\"name\"]  )\n",
        "print(  std_data[\"age\"]  )\n",
        "print(  std_data[\"hobbies\"], \"\\n\")\n",
        "\n",
        "print(std_data)\n",
        "print(len(std_data))\n",
        "print(type(std_data))"
      ],
      "metadata": {
        "colab": {
          "base_uri": "https://localhost:8080/"
        },
        "id": "umKvb_QDmCah",
        "outputId": "60d9b3d0-fbf8-40ad-9017-003ff454c9a3"
      },
      "execution_count": null,
      "outputs": [
        {
          "output_type": "stream",
          "name": "stdout",
          "text": [
            "Emily\n",
            "26\n",
            "['reading', 'crocheting', 'painting'] \n",
            "\n",
            "{'name': 'Emily', 'age': '26', 'hobbies': ['reading', 'crocheting', 'painting']}\n",
            "3\n",
            "<class 'dict'>\n"
          ]
        }
      ]
    },
    {
      "cell_type": "code",
      "source": [
        "std_data[\"name\"] = \"John\"\n",
        "print(std_data)"
      ],
      "metadata": {
        "colab": {
          "base_uri": "https://localhost:8080/"
        },
        "id": "Vg95hg5one17",
        "outputId": "282e4fa0-8be8-4cc5-adf6-e6bb133a9293"
      },
      "execution_count": null,
      "outputs": [
        {
          "output_type": "stream",
          "name": "stdout",
          "text": [
            "{'name': 'John', 'age': '26', 'hobbies': ['reading', 'crocheting', 'painting']}\n"
          ]
        }
      ]
    },
    {
      "cell_type": "code",
      "source": [
        "std_data1 = dict(name = \"Emily\", age = 26, hobbies = [\"reading\", \"crocheting\", \"painting\"])\n",
        "print(std_data1)"
      ],
      "metadata": {
        "colab": {
          "base_uri": "https://localhost:8080/"
        },
        "id": "4Ze0kOZMnzQO",
        "outputId": "05be405e-7b8e-432d-a56d-9885897a48d5"
      },
      "execution_count": null,
      "outputs": [
        {
          "output_type": "stream",
          "name": "stdout",
          "text": [
            "{'name': 'Emily', 'age': 26, 'hobbies': ['reading', 'crocheting', 'painting']}\n"
          ]
        }
      ]
    },
    {
      "cell_type": "markdown",
      "source": [
        "# Docstring\n"
      ],
      "metadata": {
        "id": "hV2iYdQHh8p1"
      }
    },
    {
      "cell_type": "code",
      "source": [
        "print(display.__doc__)"
      ],
      "metadata": {
        "colab": {
          "base_uri": "https://localhost:8080/"
        },
        "id": "7Bi0aXh9iJtj",
        "outputId": "67b41b3b-29fb-45f0-a015-f637affb278d"
      },
      "execution_count": null,
      "outputs": [
        {
          "output_type": "stream",
          "name": "stdout",
          "text": [
            "Display a Python object in all frontends.\n",
            "\n",
            "    By default all representations will be computed and sent to the frontends.\n",
            "    Frontends can decide which representation is used and how.\n",
            "\n",
            "    In terminal IPython this will be similar to using :func:`print`, for use in richer\n",
            "    frontends see Jupyter notebook examples with rich display logic.\n",
            "\n",
            "    Parameters\n",
            "    ----------\n",
            "    *objs : object\n",
            "        The Python objects to display.\n",
            "    raw : bool, optional\n",
            "        Are the objects to be displayed already mimetype-keyed dicts of raw display data,\n",
            "        or Python objects that need to be formatted before display? [default: False]\n",
            "    include : list, tuple or set, optional\n",
            "        A list of format type strings (MIME types) to include in the\n",
            "        format data dict. If this is set *only* the format types included\n",
            "        in this list will be computed.\n",
            "    exclude : list, tuple or set, optional\n",
            "        A list of format type strings (MIME types) to exclude in the format\n",
            "        data dict. If this is set all format types will be computed,\n",
            "        except for those included in this argument.\n",
            "    metadata : dict, optional\n",
            "        A dictionary of metadata to associate with the output.\n",
            "        mime-type keys in this dictionary will be associated with the individual\n",
            "        representation formats, if they exist.\n",
            "    transient : dict, optional\n",
            "        A dictionary of transient data to associate with the output.\n",
            "        Data in this dict should not be persisted to files (e.g. notebooks).\n",
            "    display_id : str, bool optional\n",
            "        Set an id for the display.\n",
            "        This id can be used for updating this display area later via update_display.\n",
            "        If given as `True`, generate a new `display_id`\n",
            "    clear : bool, optional\n",
            "        Should the output area be cleared before displaying anything? If True,\n",
            "        this will wait for additional output before clearing. [default: False]\n",
            "    kwargs: additional keyword-args, optional\n",
            "        Additional keyword-arguments are passed through to the display publisher.\n",
            "\n",
            "    Returns\n",
            "    -------\n",
            "\n",
            "    handle: DisplayHandle\n",
            "        Returns a handle on updatable displays for use with :func:`update_display`,\n",
            "        if `display_id` is given. Returns :any:`None` if no `display_id` is given\n",
            "        (default).\n",
            "\n",
            "    Examples\n",
            "    --------\n",
            "\n",
            "    >>> class Json(object):\n",
            "    ...     def __init__(self, json):\n",
            "    ...         self.json = json\n",
            "    ...     def _repr_pretty_(self, pp, cycle):\n",
            "    ...         import json\n",
            "    ...         pp.text(json.dumps(self.json, indent=2))\n",
            "    ...     def __repr__(self):\n",
            "    ...         return str(self.json)\n",
            "    ...\n",
            "\n",
            "    >>> d = Json({1:2, 3: {4:5}})\n",
            "\n",
            "    >>> print(d)\n",
            "    {1: 2, 3: {4: 5}}\n",
            "\n",
            "    >>> display(d)\n",
            "    {\n",
            "      \"1\": 2,\n",
            "      \"3\": {\n",
            "        \"4\": 5\n",
            "      }\n",
            "    }\n",
            "\n",
            "    >>> def int_formatter(integer, pp, cycle):\n",
            "    ...     pp.text('I'*integer)\n",
            "\n",
            "    >>> plain = get_ipython().display_formatter.formatters['text/plain']\n",
            "    >>> plain.for_type(int, int_formatter)\n",
            "    <function _repr_pprint at 0x...>\n",
            "    >>> display(7-5)\n",
            "    II\n",
            "\n",
            "    >>> del plain.type_printers[int]\n",
            "    >>> display(7-5)\n",
            "    2\n",
            "\n",
            "    See Also\n",
            "    --------\n",
            "\n",
            "    :func:`update_display`\n",
            "\n",
            "    Notes\n",
            "    -----\n",
            "\n",
            "    In Python, objects can declare their textual representation using the\n",
            "    `__repr__` method. IPython expands on this idea and allows objects to declare\n",
            "    other, rich representations including:\n",
            "\n",
            "      - HTML\n",
            "      - JSON\n",
            "      - PNG\n",
            "      - JPEG\n",
            "      - SVG\n",
            "      - LaTeX\n",
            "\n",
            "    A single object can declare some or all of these representations; all are\n",
            "    handled by IPython's display system.\n",
            "\n",
            "    The main idea of the first approach is that you have to implement special\n",
            "    display methods when you define your class, one for each representation you\n",
            "    want to use. Here is a list of the names of the special methods and the\n",
            "    values they must return:\n",
            "\n",
            "      - `_repr_html_`: return raw HTML as a string, or a tuple (see below).\n",
            "      - `_repr_json_`: return a JSONable dict, or a tuple (see below).\n",
            "      - `_repr_jpeg_`: return raw JPEG data, or a tuple (see below).\n",
            "      - `_repr_png_`: return raw PNG data, or a tuple (see below).\n",
            "      - `_repr_svg_`: return raw SVG data as a string, or a tuple (see below).\n",
            "      - `_repr_latex_`: return LaTeX commands in a string surrounded by \"$\",\n",
            "                        or a tuple (see below).\n",
            "      - `_repr_mimebundle_`: return a full mimebundle containing the mapping\n",
            "                             from all mimetypes to data.\n",
            "                             Use this for any mime-type not listed above.\n",
            "\n",
            "    The above functions may also return the object's metadata alonside the\n",
            "    data.  If the metadata is available, the functions will return a tuple\n",
            "    containing the data and metadata, in that order.  If there is no metadata\n",
            "    available, then the functions will return the data only.\n",
            "\n",
            "    When you are directly writing your own classes, you can adapt them for\n",
            "    display in IPython by following the above approach. But in practice, you\n",
            "    often need to work with existing classes that you can't easily modify.\n",
            "\n",
            "    You can refer to the documentation on integrating with the display system in\n",
            "    order to register custom formatters for already existing types\n",
            "    (:ref:`integrating_rich_display`).\n",
            "\n",
            "    .. versionadded:: 5.4 display available without import\n",
            "    .. versionadded:: 6.1 display available without import\n",
            "\n",
            "    Since IPython 5.4 and 6.1 :func:`display` is automatically made available to\n",
            "    the user without import. If you are using display in a document that might\n",
            "    be used in a pure python context or with older version of IPython, use the\n",
            "    following import at the top of your file::\n",
            "\n",
            "        from IPython.display import display\n",
            "\n",
            "    \n"
          ]
        }
      ]
    },
    {
      "cell_type": "code",
      "source": [
        "def myFunc():\n",
        "  \"\"\"Function to return 5\"\"\"\n",
        "  a = 5\n",
        "  return a\n",
        "\n",
        "print(myFunc())"
      ],
      "metadata": {
        "colab": {
          "base_uri": "https://localhost:8080/"
        },
        "id": "HfVwVkhyiWQG",
        "outputId": "826a4a29-4a4a-42a2-988c-8b66ad349e0d"
      },
      "execution_count": null,
      "outputs": [
        {
          "output_type": "stream",
          "name": "stdout",
          "text": [
            "5\n"
          ]
        }
      ]
    },
    {
      "cell_type": "code",
      "source": [
        "print(myFunc.__doc__)\n",
        "# for documentation"
      ],
      "metadata": {
        "colab": {
          "base_uri": "https://localhost:8080/"
        },
        "id": "HPUUtqgzjd5S",
        "outputId": "b1d522af-80ef-4116-bd82-1a0accac0de5"
      },
      "execution_count": null,
      "outputs": [
        {
          "output_type": "stream",
          "name": "stdout",
          "text": [
            "Function to return 5\n"
          ]
        }
      ]
    },
    {
      "cell_type": "code",
      "source": [
        "class MyClass:\n",
        "  def __init__(self,name, age): # object of the class\n",
        "    self.name = name # attribute of the class\n",
        "    self.age = age\n",
        "\n",
        "  def myMethod(self): # class method\n",
        "    print(\"Hello my name is \" + self.name)\n",
        "\n",
        "person = MyClass(\"John\", 14)\n",
        "print(person.name, person.age)\n",
        "print(person.myMethod())"
      ],
      "metadata": {
        "id": "7Koqq1e-Guk4",
        "outputId": "2e06f6d6-f10a-478a-8b14-37e229ac6039",
        "colab": {
          "base_uri": "https://localhost:8080/"
        }
      },
      "execution_count": null,
      "outputs": [
        {
          "output_type": "stream",
          "name": "stdout",
          "text": [
            "John 14\n",
            "Hello my name is John\n",
            "None\n"
          ]
        }
      ]
    },
    {
      "cell_type": "markdown",
      "source": [
        "# Format() Method"
      ],
      "metadata": {
        "id": "tdOXhGRDhaRX"
      }
    },
    {
      "cell_type": "code",
      "source": [
        "name = \"Sam\"\n",
        "age = 24\n",
        "first_letter = name[0]\n",
        "amount = 200\n",
        "\n",
        "greeting0 = \"Good Morning, Attendee %s. Your age is %d, and balance is %d.\" % (name, age, amount)\n",
        "print(greeting0)\n",
        "\n",
        "greeting1 = \"Good Morning, Attendee {}. Your age is {}, and balance is {}.\".format(name, age, amount)\n",
        "print(greeting1)\n",
        "\n",
        "greeting2 = f\"Good Morning, Attendee {name}. Your age is {age}, and balance is {amount}.\"\n",
        "print(greeting2)\n"
      ],
      "metadata": {
        "colab": {
          "base_uri": "https://localhost:8080/"
        },
        "id": "LxAWVDyU7spH",
        "outputId": "e47e1daf-26dd-42ee-9512-b5469925f4ff"
      },
      "execution_count": null,
      "outputs": [
        {
          "output_type": "stream",
          "name": "stdout",
          "text": [
            "Good Morning, Attendee Sam. Your age is 24, and balance is 200.\n",
            "Good Morning, Attendee Sam. Your age is 24, and balance is 200.\n",
            "Good Morning, Attendee Sam. Your age is 24, and balance is 200.\n"
          ]
        }
      ]
    }
  ]
}